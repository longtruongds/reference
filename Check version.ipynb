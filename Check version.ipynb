{
 "cells": [
  {
   "cell_type": "code",
   "execution_count": 1,
   "id": "5ce4c5bf-d89f-4cd9-8093-74311746b7a5",
   "metadata": {},
   "outputs": [],
   "source": [
    "#pip list"
   ]
  },
  {
   "cell_type": "code",
   "execution_count": 1,
   "id": "b2c70877-4c78-45ba-957d-1909f8df3ba0",
   "metadata": {},
   "outputs": [
    {
     "name": "stdout",
     "output_type": "stream",
     "text": [
      "3.9.7\n"
     ]
    }
   ],
   "source": [
    "from platform import python_version\n",
    "print(python_version())"
   ]
  },
  {
   "cell_type": "code",
   "execution_count": 1,
   "id": "44eaff04-c15c-430e-aa70-3639e6d425a4",
   "metadata": {},
   "outputs": [
    {
     "name": "stdout",
     "output_type": "stream",
     "text": [
      "5.1.5\n"
     ]
    }
   ],
   "source": [
    "import spyder\n",
    "version = spyder.__version__\n",
    "print(version)"
   ]
  },
  {
   "cell_type": "code",
   "execution_count": 2,
   "id": "cfe0225a-ed38-4826-bbad-8f1df0ae7eb7",
   "metadata": {},
   "outputs": [
    {
     "name": "stdout",
     "output_type": "stream",
     "text": [
      "Requirement already satisfied: spyder in c:\\programdata\\anaconda4\\lib\\site-packages (5.1.5)\n",
      "Requirement already satisfied: cloudpickle>=0.5.0 in c:\\programdata\\anaconda4\\lib\\site-packages (from spyder) (2.0.0)\n",
      "Requirement already satisfied: textdistance>=4.2.0 in c:\\programdata\\anaconda4\\lib\\site-packages (from spyder) (4.2.1)\n",
      "Requirement already satisfied: qtpy>=1.5.0 in c:\\programdata\\anaconda4\\lib\\site-packages (from spyder) (1.10.0)\n",
      "Requirement already satisfied: pygments>=2.0 in c:\\programdata\\anaconda4\\lib\\site-packages (from spyder) (2.10.0)\n",
      "Requirement already satisfied: ipython>=7.6.0 in c:\\programdata\\anaconda4\\lib\\site-packages (from spyder) (7.29.0)\n",
      "Requirement already satisfied: setuptools>=49.6.0 in c:\\programdata\\anaconda4\\lib\\site-packages (from spyder) (58.0.4)\n",
      "Requirement already satisfied: atomicwrites>=1.2.0 in c:\\programdata\\anaconda4\\lib\\site-packages (from spyder) (1.4.0)\n",
      "Requirement already satisfied: psutil>=5.3 in c:\\programdata\\anaconda4\\lib\\site-packages (from spyder) (5.8.0)\n",
      "Requirement already satisfied: sphinx>=0.6.6 in c:\\programdata\\anaconda4\\lib\\site-packages (from spyder) (4.2.0)\n",
      "Requirement already satisfied: qtconsole>=5.1.0 in c:\\programdata\\anaconda4\\lib\\site-packages (from spyder) (5.1.1)\n",
      "Requirement already satisfied: rtree>=0.9.7 in c:\\programdata\\anaconda4\\lib\\site-packages (from spyder) (0.9.7)\n",
      "Requirement already satisfied: qtawesome>=1.0.2 in c:\\programdata\\anaconda4\\lib\\site-packages (from spyder) (1.0.2)\n",
      "Requirement already satisfied: pylint<2.10.0,>=2.5.0 in c:\\programdata\\anaconda4\\lib\\site-packages (from spyder) (2.9.6)\n",
      "Requirement already satisfied: jedi<0.19.0,>=0.17.2 in c:\\programdata\\anaconda4\\lib\\site-packages (from spyder) (0.18.0)\n",
      "Collecting pyqtwebengine<5.13\n",
      "  Downloading PyQtWebEngine-5.12.1-5.12.10-cp35.cp36.cp37.cp38.cp39-none-win_amd64.whl (49.7 MB)\n",
      "Requirement already satisfied: python-lsp-black>=1.0.0 in c:\\programdata\\anaconda4\\lib\\site-packages (from spyder) (1.0.0)\n",
      "Requirement already satisfied: jsonschema>=3.2.0 in c:\\programdata\\anaconda4\\lib\\site-packages (from spyder) (3.2.0)\n",
      "Requirement already satisfied: diff-match-patch>=20181111 in c:\\programdata\\anaconda4\\lib\\site-packages (from spyder) (20200713)\n",
      "Requirement already satisfied: watchdog>=0.10.3 in c:\\programdata\\anaconda4\\lib\\site-packages (from spyder) (2.1.3)Note: you may need to restart the kernel to use updated packages.\n",
      "Requirement already satisfied: python-lsp-server[all]<1.3.0,>=1.2.2 in c:\\programdata\\anaconda4\\lib\\site-packages (from spyder) (1.2.4)\n",
      "Requirement already satisfied: nbconvert>=4.0 in c:\\programdata\\anaconda4\\lib\\site-packages (from spyder) (6.1.0)\n",
      "Requirement already satisfied: pickleshare>=0.4 in c:\\programdata\\anaconda4\\lib\\site-packages (from spyder) (0.7.5)\n",
      "Requirement already satisfied: keyring>=17.0.0 in c:\\programdata\\anaconda4\\lib\\site-packages (from spyder) (23.1.0)\n",
      "Requirement already satisfied: intervaltree>=3.0.2 in c:\\programdata\\anaconda4\\lib\\site-packages (from spyder) (3.1.0)\n",
      "Requirement already satisfied: numpydoc>=0.6.0 in c:\\programdata\\anaconda4\\lib\\site-packages (from spyder) (1.1.0)\n",
      "Collecting pyqt5<5.13\n",
      "  Downloading PyQt5-5.12.3-5.12.10-cp35.cp36.cp37.cp38.cp39-none-win_amd64.whl (51.4 MB)\n",
      "Requirement already satisfied: cookiecutter>=1.6.0 in c:\\programdata\\anaconda4\\lib\\site-packages (from spyder) (1.7.2)\n",
      "Requirement already satisfied: paramiko>=2.4.0 in c:\\programdata\\anaconda4\\lib\\site-packages (from spyder) (2.7.2)\n",
      "Requirement already satisfied: pyls-spyder>=0.4.0 in c:\\programdata\\anaconda4\\lib\\site-packages (from spyder) (0.4.0)\n",
      "Requirement already satisfied: parso<0.9.0,>=0.7.0 in c:\\programdata\\anaconda4\\lib\\site-packages (from spyder) (0.8.2)\n",
      "Requirement already satisfied: pexpect>=4.4.0 in c:\\programdata\\anaconda4\\lib\\site-packages (from spyder) (4.8.0)\n",
      "Requirement already satisfied: spyder-kernels<2.2.0,>=2.1.1 in c:\\programdata\\anaconda4\\lib\\site-packages (from spyder) (2.1.3)\n",
      "Requirement already satisfied: three-merge>=0.1.1 in c:\\programdata\\anaconda4\\lib\\site-packages (from spyder) (0.1.1)\n",
      "Requirement already satisfied: qstylizer>=0.1.10 in c:\\programdata\\anaconda4\\lib\\site-packages (from spyder) (0.1.10)\n",
      "Requirement already satisfied: qdarkstyle==3.0.2 in c:\\programdata\\anaconda4\\lib\\site-packages (from spyder) (3.0.2)\n",
      "Requirement already satisfied: chardet>=2.0.0 in c:\\programdata\\anaconda4\\lib\\site-packages (from spyder) (3.0.4)\n",
      "Requirement already satisfied: pyzmq>=17 in c:\\programdata\\anaconda4\\lib\\site-packages (from spyder) (22.2.1)\n",
      "Requirement already satisfied: six>=1.10 in c:\\programdata\\anaconda4\\lib\\site-packages (from cookiecutter>=1.6.0->spyder) (1.16.0)\n",
      "Requirement already satisfied: requests>=2.23.0 in c:\\programdata\\anaconda4\\lib\\site-packages (from cookiecutter>=1.6.0->spyder) (2.26.0)\n",
      "Requirement already satisfied: click>=7.0 in c:\\programdata\\anaconda4\\lib\\site-packages (from cookiecutter>=1.6.0->spyder) (8.0.3)\n",
      "Requirement already satisfied: poyo>=0.5.0 in c:\\programdata\\anaconda4\\lib\\site-packages (from cookiecutter>=1.6.0->spyder) (0.5.0)\n",
      "Requirement already satisfied: MarkupSafe<2.0.0 in c:\\programdata\\anaconda4\\lib\\site-packages (from cookiecutter>=1.6.0->spyder) (1.1.1)\n",
      "Requirement already satisfied: jinja2-time>=0.2.0 in c:\\programdata\\anaconda4\\lib\\site-packages (from cookiecutter>=1.6.0->spyder) (0.2.0)\n",
      "Requirement already satisfied: python-slugify>=4.0.0 in c:\\programdata\\anaconda4\\lib\\site-packages (from cookiecutter>=1.6.0->spyder) (5.0.2)\n",
      "Requirement already satisfied: Jinja2<3.0.0 in c:\\programdata\\anaconda4\\lib\\site-packages (from cookiecutter>=1.6.0->spyder) (2.11.3)\n",
      "Requirement already satisfied: binaryornot>=0.4.4 in c:\\programdata\\anaconda4\\lib\\site-packages (from cookiecutter>=1.6.0->spyder) (0.4.4)\n",
      "Requirement already satisfied: colorama in c:\\programdata\\anaconda4\\lib\\site-packages (from click>=7.0->cookiecutter>=1.6.0->spyder) (0.4.4)\n",
      "Requirement already satisfied: sortedcontainers<3.0,>=2.0 in c:\\programdata\\anaconda4\\lib\\site-packages (from intervaltree>=3.0.2->spyder) (2.4.0)\n",
      "\n",
      "Requirement already satisfied: matplotlib-inline in c:\\programdata\\anaconda4\\lib\\site-packages (from ipython>=7.6.0->spyder) (0.1.2)\n",
      "Requirement already satisfied: traitlets>=4.2 in c:\\programdata\\anaconda4\\lib\\site-packages (from ipython>=7.6.0->spyder) (5.1.0)\n",
      "Requirement already satisfied: backcall in c:\\programdata\\anaconda4\\lib\\site-packages (from ipython>=7.6.0->spyder) (0.2.0)\n",
      "Requirement already satisfied: decorator in c:\\programdata\\anaconda4\\lib\\site-packages (from ipython>=7.6.0->spyder) (4.4.2)\n",
      "Requirement already satisfied: prompt-toolkit!=3.0.0,!=3.0.1,<3.1.0,>=2.0.0 in c:\\programdata\\anaconda4\\lib\\site-packages (from ipython>=7.6.0->spyder) (3.0.20)\n",
      "Requirement already satisfied: arrow in c:\\programdata\\anaconda4\\lib\\site-packages (from jinja2-time>=0.2.0->cookiecutter>=1.6.0->spyder) (0.13.1)\n",
      "Requirement already satisfied: pyrsistent>=0.14.0 in c:\\programdata\\anaconda4\\lib\\site-packages (from jsonschema>=3.2.0->spyder) (0.18.0)\n",
      "Requirement already satisfied: attrs>=17.4.0 in c:\\programdata\\anaconda4\\lib\\site-packages (from jsonschema>=3.2.0->spyder) (21.2.0)\n",
      "Requirement already satisfied: pywin32-ctypes!=0.1.0,!=0.1.1 in c:\\programdata\\anaconda4\\lib\\site-packages (from keyring>=17.0.0->spyder) (0.2.0)\n",
      "Requirement already satisfied: importlib-metadata>=3.6 in c:\\programdata\\anaconda4\\lib\\site-packages (from keyring>=17.0.0->spyder) (4.8.1)\n",
      "Requirement already satisfied: zipp>=0.5 in c:\\programdata\\anaconda4\\lib\\site-packages (from importlib-metadata>=3.6->keyring>=17.0.0->spyder) (3.6.0)\n",
      "Requirement already satisfied: jupyter-core in c:\\programdata\\anaconda4\\lib\\site-packages (from nbconvert>=4.0->spyder) (4.8.1)\n",
      "Requirement already satisfied: testpath in c:\\programdata\\anaconda4\\lib\\site-packages (from nbconvert>=4.0->spyder) (0.5.0)\n",
      "Requirement already satisfied: defusedxml in c:\\programdata\\anaconda4\\lib\\site-packages (from nbconvert>=4.0->spyder) (0.7.1)\n",
      "Requirement already satisfied: nbclient<0.6.0,>=0.5.0 in c:\\programdata\\anaconda4\\lib\\site-packages (from nbconvert>=4.0->spyder) (0.5.3)\n",
      "Requirement already satisfied: nbformat>=4.4 in c:\\programdata\\anaconda4\\lib\\site-packages (from nbconvert>=4.0->spyder) (5.1.3)\n",
      "Requirement already satisfied: bleach in c:\\programdata\\anaconda4\\lib\\site-packages (from nbconvert>=4.0->spyder) (4.0.0)\n",
      "Requirement already satisfied: pandocfilters>=1.4.1 in c:\\programdata\\anaconda4\\lib\\site-packages (from nbconvert>=4.0->spyder) (1.4.3)\n",
      "Requirement already satisfied: jupyterlab-pygments in c:\\programdata\\anaconda4\\lib\\site-packages (from nbconvert>=4.0->spyder) (0.1.2)\n",
      "Requirement already satisfied: entrypoints>=0.2.2 in c:\\programdata\\anaconda4\\lib\\site-packages (from nbconvert>=4.0->spyder) (0.3)\n",
      "Requirement already satisfied: mistune<2,>=0.8.1 in c:\\programdata\\anaconda4\\lib\\site-packages (from nbconvert>=4.0->spyder) (0.8.4)\n",
      "Requirement already satisfied: jupyter-client>=6.1.5 in c:\\programdata\\anaconda4\\lib\\site-packages (from nbclient<0.6.0,>=0.5.0->nbconvert>=4.0->spyder) (6.1.12)\n",
      "Requirement already satisfied: nest-asyncio in c:\\programdata\\anaconda4\\lib\\site-packages (from nbclient<0.6.0,>=0.5.0->nbconvert>=4.0->spyder) (1.5.1)\n",
      "Requirement already satisfied: async-generator in c:\\programdata\\anaconda4\\lib\\site-packages (from nbclient<0.6.0,>=0.5.0->nbconvert>=4.0->spyder) (1.10)\n",
      "Requirement already satisfied: tornado>=4.1 in c:\\programdata\\anaconda4\\lib\\site-packages (from jupyter-client>=6.1.5->nbclient<0.6.0,>=0.5.0->nbconvert>=4.0->spyder) (6.1)\n",
      "Requirement already satisfied: python-dateutil>=2.1 in c:\\programdata\\anaconda4\\lib\\site-packages (from jupyter-client>=6.1.5->nbclient<0.6.0,>=0.5.0->nbconvert>=4.0->spyder) (2.8.2)\n",
      "Requirement already satisfied: pywin32>=1.0 in c:\\programdata\\anaconda4\\lib\\site-packages (from jupyter-core->nbconvert>=4.0->spyder) (228)\n",
      "Requirement already satisfied: ipython-genutils in c:\\programdata\\anaconda4\\lib\\site-packages (from nbformat>=4.4->nbconvert>=4.0->spyder) (0.2.0)\n",
      "Requirement already satisfied: pynacl>=1.0.1 in c:\\programdata\\anaconda4\\lib\\site-packages (from paramiko>=2.4.0->spyder) (1.4.0)\n",
      "Requirement already satisfied: bcrypt>=3.1.3 in c:\\programdata\\anaconda4\\lib\\site-packages (from paramiko>=2.4.0->spyder) (3.2.0)\n",
      "Requirement already satisfied: cryptography>=2.5 in c:\\programdata\\anaconda4\\lib\\site-packages (from paramiko>=2.4.0->spyder) (3.4.8)\n",
      "Requirement already satisfied: cffi>=1.1 in c:\\programdata\\anaconda4\\lib\\site-packages (from bcrypt>=3.1.3->paramiko>=2.4.0->spyder) (1.14.6)\n",
      "Requirement already satisfied: pycparser in c:\\programdata\\anaconda4\\lib\\site-packages (from cffi>=1.1->bcrypt>=3.1.3->paramiko>=2.4.0->spyder) (2.20)\n",
      "Requirement already satisfied: ptyprocess>=0.5 in c:\\programdata\\anaconda4\\lib\\site-packages (from pexpect>=4.4.0->spyder) (0.7.0)\n",
      "Requirement already satisfied: wcwidth in c:\\programdata\\anaconda4\\lib\\site-packages (from prompt-toolkit!=3.0.0,!=3.0.1,<3.1.0,>=2.0.0->ipython>=7.6.0->spyder) (0.2.5)\n",
      "Requirement already satisfied: astroid<2.7,>=2.6.5 in c:\\programdata\\anaconda4\\lib\\site-packages (from pylint<2.10.0,>=2.5.0->spyder) (2.6.6)\n",
      "Requirement already satisfied: toml>=0.7.1 in c:\\programdata\\anaconda4\\lib\\site-packages (from pylint<2.10.0,>=2.5.0->spyder) (0.10.2)\n",
      "Requirement already satisfied: mccabe<0.7,>=0.6 in c:\\programdata\\anaconda4\\lib\\site-packages (from pylint<2.10.0,>=2.5.0->spyder) (0.6.1)\n",
      "Requirement already satisfied: isort<6,>=4.2.5 in c:\\programdata\\anaconda4\\lib\\site-packages (from pylint<2.10.0,>=2.5.0->spyder) (5.9.3)\n",
      "Requirement already satisfied: wrapt<1.13,>=1.11 in c:\\programdata\\anaconda4\\lib\\site-packages (from astroid<2.7,>=2.6.5->pylint<2.10.0,>=2.5.0->spyder) (1.12.1)\n",
      "Requirement already satisfied: lazy-object-proxy>=1.4.0 in c:\\programdata\\anaconda4\\lib\\site-packages (from astroid<2.7,>=2.6.5->pylint<2.10.0,>=2.5.0->spyder) (1.6.0)\n",
      "Collecting PyQt5_sip<13,>=4.19.14\n",
      "  Downloading PyQt5_sip-12.10.1-cp39-cp39-win_amd64.whl (77 kB)\n",
      "Requirement already satisfied: black>=19.3b0 in c:\\programdata\\anaconda4\\lib\\site-packages (from python-lsp-black>=1.0.0->spyder) (19.10b0)\n",
      "Requirement already satisfied: typed-ast>=1.4.0 in c:\\programdata\\anaconda4\\lib\\site-packages (from black>=19.3b0->python-lsp-black>=1.0.0->spyder) (1.4.3)\n",
      "Requirement already satisfied: appdirs in c:\\programdata\\anaconda4\\lib\\site-packages (from black>=19.3b0->python-lsp-black>=1.0.0->spyder) (1.4.4)\n",
      "Requirement already satisfied: pathspec<1,>=0.6 in c:\\programdata\\anaconda4\\lib\\site-packages (from black>=19.3b0->python-lsp-black>=1.0.0->spyder) (0.7.0)\n",
      "Requirement already satisfied: regex in c:\\programdata\\anaconda4\\lib\\site-packages (from black>=19.3b0->python-lsp-black>=1.0.0->spyder) (2021.8.3)\n",
      "Requirement already satisfied: python-lsp-jsonrpc>=1.0.0 in c:\\programdata\\anaconda4\\lib\\site-packages (from python-lsp-server[all]<1.3.0,>=1.2.2->spyder) (1.0.0)\n",
      "Requirement already satisfied: pluggy in c:\\programdata\\anaconda4\\lib\\site-packages (from python-lsp-server[all]<1.3.0,>=1.2.2->spyder) (0.13.1)\n",
      "Requirement already satisfied: ujson>=3.0.0 in c:\\programdata\\anaconda4\\lib\\site-packages (from python-lsp-server[all]<1.3.0,>=1.2.2->spyder) (4.0.2)\n",
      "Requirement already satisfied: autopep8 in c:\\programdata\\anaconda4\\lib\\site-packages (from python-lsp-server[all]<1.3.0,>=1.2.2->spyder) (1.5.7)\n",
      "Requirement already satisfied: flake8<4.0.0,>=3.8.0 in c:\\programdata\\anaconda4\\lib\\site-packages (from python-lsp-server[all]<1.3.0,>=1.2.2->spyder) (3.9.2)\n",
      "Requirement already satisfied: pycodestyle>=2.7.0 in c:\\programdata\\anaconda4\\lib\\site-packages (from python-lsp-server[all]<1.3.0,>=1.2.2->spyder) (2.7.0)\n",
      "Requirement already satisfied: pydocstyle>=2.0.0 in c:\\programdata\\anaconda4\\lib\\site-packages (from python-lsp-server[all]<1.3.0,>=1.2.2->spyder) (6.1.1)\n",
      "Requirement already satisfied: pyflakes<2.4.0,>=2.3.0 in c:\\programdata\\anaconda4\\lib\\site-packages (from python-lsp-server[all]<1.3.0,>=1.2.2->spyder) (2.3.1)\n",
      "Requirement already satisfied: rope>=0.10.5 in c:\\programdata\\anaconda4\\lib\\site-packages (from python-lsp-server[all]<1.3.0,>=1.2.2->spyder) (0.19.0)\n",
      "Requirement already satisfied: yapf in c:\\programdata\\anaconda4\\lib\\site-packages (from python-lsp-server[all]<1.3.0,>=1.2.2->spyder) (0.31.0)\n",
      "Requirement already satisfied: snowballstemmer in c:\\programdata\\anaconda4\\lib\\site-packages (from pydocstyle>=2.0.0->python-lsp-server[all]<1.3.0,>=1.2.2->spyder) (2.1.0)\n",
      "Requirement already satisfied: text-unidecode>=1.3 in c:\\programdata\\anaconda4\\lib\\site-packages (from python-slugify>=4.0.0->cookiecutter>=1.6.0->spyder) (1.3)\n",
      "Requirement already satisfied: inflection<1,>0.3.0 in c:\\programdata\\anaconda4\\lib\\site-packages (from qstylizer>=0.1.10->spyder) (0.5.1)\n",
      "Requirement already satisfied: tinycss<1,>=0.4 in c:\\programdata\\anaconda4\\lib\\site-packages (from qstylizer>=0.1.10->spyder) (0.4)\n",
      "Requirement already satisfied: ipykernel>=4.1 in c:\\programdata\\anaconda4\\lib\\site-packages (from qtconsole>=5.1.0->spyder) (6.4.1)\n",
      "Requirement already satisfied: debugpy<2.0,>=1.0.0 in c:\\programdata\\anaconda4\\lib\\site-packages (from ipykernel>=4.1->qtconsole>=5.1.0->spyder) (1.4.1)\n",
      "Requirement already satisfied: charset-normalizer~=2.0.0 in c:\\programdata\\anaconda4\\lib\\site-packages (from requests>=2.23.0->cookiecutter>=1.6.0->spyder) (2.0.4)\n",
      "Requirement already satisfied: urllib3<1.27,>=1.21.1 in c:\\programdata\\anaconda4\\lib\\site-packages (from requests>=2.23.0->cookiecutter>=1.6.0->spyder) (1.26.7)\n",
      "Requirement already satisfied: idna<4,>=2.5 in c:\\programdata\\anaconda4\\lib\\site-packages (from requests>=2.23.0->cookiecutter>=1.6.0->spyder) (2.10)\n",
      "Requirement already satisfied: certifi>=2017.4.17 in c:\\programdata\\anaconda4\\lib\\site-packages (from requests>=2.23.0->cookiecutter>=1.6.0->spyder) (2021.10.8)\n",
      "Requirement already satisfied: sphinxcontrib-applehelp in c:\\programdata\\anaconda4\\lib\\site-packages (from sphinx>=0.6.6->spyder) (1.0.2)\n",
      "Requirement already satisfied: sphinxcontrib-devhelp in c:\\programdata\\anaconda4\\lib\\site-packages (from sphinx>=0.6.6->spyder) (1.0.2)\n",
      "Requirement already satisfied: sphinxcontrib-jsmath in c:\\programdata\\anaconda4\\lib\\site-packages (from sphinx>=0.6.6->spyder) (1.0.1)\n",
      "Requirement already satisfied: sphinxcontrib-htmlhelp>=2.0.0 in c:\\programdata\\anaconda4\\lib\\site-packages (from sphinx>=0.6.6->spyder) (2.0.0)\n",
      "Requirement already satisfied: sphinxcontrib-serializinghtml>=1.1.5 in c:\\programdata\\anaconda4\\lib\\site-packages (from sphinx>=0.6.6->spyder) (1.1.5)\n",
      "Requirement already satisfied: sphinxcontrib-qthelp in c:\\programdata\\anaconda4\\lib\\site-packages (from sphinx>=0.6.6->spyder) (1.0.3)\n",
      "Requirement already satisfied: docutils<0.18,>=0.14 in c:\\programdata\\anaconda4\\lib\\site-packages (from sphinx>=0.6.6->spyder) (0.17.1)\n",
      "Requirement already satisfied: babel>=1.3 in c:\\programdata\\anaconda4\\lib\\site-packages (from sphinx>=0.6.6->spyder) (2.9.1)\n",
      "Requirement already satisfied: alabaster<0.8,>=0.7 in c:\\programdata\\anaconda4\\lib\\site-packages (from sphinx>=0.6.6->spyder) (0.7.12)\n",
      "Requirement already satisfied: imagesize in c:\\programdata\\anaconda4\\lib\\site-packages (from sphinx>=0.6.6->spyder) (1.2.0)\n",
      "Requirement already satisfied: packaging in c:\\programdata\\anaconda4\\lib\\site-packages (from sphinx>=0.6.6->spyder) (21.0)\n",
      "Requirement already satisfied: pytz>=2015.7 in c:\\programdata\\anaconda4\\lib\\site-packages (from babel>=1.3->sphinx>=0.6.6->spyder) (2021.3)\n",
      "Requirement already satisfied: webencodings in c:\\programdata\\anaconda4\\lib\\site-packages (from bleach->nbconvert>=4.0->spyder) (0.5.1)\n",
      "Requirement already satisfied: pyparsing>=2.0.2 in c:\\programdata\\anaconda4\\lib\\site-packages (from packaging->sphinx>=0.6.6->spyder) (3.0.4)\n",
      "Installing collected packages: PyQt5-sip, pyqt5, pyqtwebengine\n",
      "Successfully installed PyQt5-sip-12.10.1 pyqt5-5.12.3 pyqtwebengine-5.12.1\n"
     ]
    }
   ],
   "source": [
    "#pip install spyder"
   ]
  },
  {
   "cell_type": "code",
   "execution_count": null,
   "id": "e7673ce1-27e0-48c9-a379-021b11c95c9e",
   "metadata": {},
   "outputs": [],
   "source": [
    "kkk"
   ]
  },
  {
   "cell_type": "code",
   "execution_count": null,
   "id": "ebe1594b-067a-40f5-97f0-5edc552429b4",
   "metadata": {},
   "outputs": [],
   "source": [
    "#!pip install dash==1.21.0"
   ]
  },
  {
   "cell_type": "code",
   "execution_count": null,
   "id": "c1cf9f77-1e70-401f-ae7d-12863a8e1e16",
   "metadata": {},
   "outputs": [],
   "source": [
    "import sys\n",
    "print(sys.version)"
   ]
  },
  {
   "cell_type": "code",
   "execution_count": null,
   "id": "6c9f631c-f76e-473a-b23b-1900207dd98c",
   "metadata": {},
   "outputs": [],
   "source": [
    "import tkinter\n",
    "version = tkinter.__version__\n",
    "print(version)"
   ]
  },
  {
   "cell_type": "code",
   "execution_count": null,
   "id": "9119d696-6a4f-414a-b5ae-dac5c45a11c4",
   "metadata": {},
   "outputs": [],
   "source": [
    "kk"
   ]
  },
  {
   "cell_type": "code",
   "execution_count": null,
   "id": "e22dbb71-4aed-491b-9796-c26b4c403978",
   "metadata": {},
   "outputs": [],
   "source": [
    "#xgboost\n",
    "import xgboost\n",
    "version = xgboost.__version__\n",
    "print(version)"
   ]
  },
  {
   "cell_type": "code",
   "execution_count": 1,
   "id": "b5557627-cef7-4874-8b46-5aa232acf4bd",
   "metadata": {},
   "outputs": [
    {
     "name": "stdout",
     "output_type": "stream",
     "text": [
      "2.8.0\n"
     ]
    }
   ],
   "source": [
    "import tensorflow\n",
    "version = tensorflow.__version__\n",
    "print(version)"
   ]
  },
  {
   "cell_type": "code",
   "execution_count": null,
   "id": "c93a86db-7e92-4f94-abf9-1444cccf230d",
   "metadata": {},
   "outputs": [],
   "source": [
    "import tkinter\n",
    "version = tkinter.__version__\n",
    "print(version)"
   ]
  },
  {
   "cell_type": "code",
   "execution_count": null,
   "id": "5d59f304-e151-4415-b2ea-e2b3fa516eeb",
   "metadata": {},
   "outputs": [],
   "source": [
    "import keras\n",
    "print(keras.__version__)"
   ]
  },
  {
   "cell_type": "code",
   "execution_count": null,
   "id": "c9b5dd18-e10f-4f31-bc33-99041596c370",
   "metadata": {},
   "outputs": [],
   "source": [
    "import pyspark\n",
    "version = pyspark.__version__\n",
    "print(version)"
   ]
  },
  {
   "cell_type": "code",
   "execution_count": null,
   "id": "dc9dd68f-7b6c-470f-a4b5-d2f9f62d0536",
   "metadata": {},
   "outputs": [],
   "source": [
    "#sqlalchemy\n",
    "import sqlalchemy\n",
    "version = sqlalchemy.__version__\n",
    "print(version)"
   ]
  },
  {
   "cell_type": "code",
   "execution_count": null,
   "id": "2b93c624-0a3a-414c-b422-1ffd80a2882a",
   "metadata": {},
   "outputs": [],
   "source": [
    "!pip install sqlalchemy==1.4.23"
   ]
  },
  {
   "cell_type": "code",
   "execution_count": null,
   "id": "4f7cd7dd-14ee-4ec9-aea6-5a3d057672ab",
   "metadata": {},
   "outputs": [],
   "source": [
    "#pip uninstall sqlalchemy"
   ]
  },
  {
   "cell_type": "code",
   "execution_count": null,
   "id": "53f81653-49f4-457f-a95a-2a7270cf5d4e",
   "metadata": {},
   "outputs": [],
   "source": [
    "import sklearn\n",
    "version = sklearn.__version__\n",
    "print(version)\n",
    "#!pip install sklearn==0.24.2"
   ]
  },
  {
   "cell_type": "code",
   "execution_count": null,
   "id": "7cb3844d-f389-429c-92d6-b2b689e82801",
   "metadata": {},
   "outputs": [],
   "source": [
    "import ibm_db_sa\n",
    "version = ibm_db_sa.__version__\n",
    "print(version)"
   ]
  },
  {
   "cell_type": "code",
   "execution_count": null,
   "id": "4fd30b40-8723-40f8-a79c-1e0c41104c17",
   "metadata": {},
   "outputs": [],
   "source": [
    "import ibm_db\n",
    "version = ibm_db.__version__\n",
    "print(version)"
   ]
  },
  {
   "cell_type": "code",
   "execution_count": null,
   "id": "8da06d83-c3f2-478c-a64e-9ada60feb533",
   "metadata": {},
   "outputs": [],
   "source": []
  },
  {
   "cell_type": "code",
   "execution_count": null,
   "id": "2eabc560-b451-41bf-af3e-73202751d7c2",
   "metadata": {},
   "outputs": [],
   "source": []
  },
  {
   "cell_type": "code",
   "execution_count": null,
   "id": "c017fc7f-86de-4205-8472-51510e29178e",
   "metadata": {},
   "outputs": [],
   "source": []
  },
  {
   "cell_type": "code",
   "execution_count": null,
   "id": "1edcdf67-d78d-47dc-9a17-7aa00b991e1d",
   "metadata": {},
   "outputs": [],
   "source": [
    "import skimage\n",
    "version = skimage.__version__\n",
    "print(version)"
   ]
  },
  {
   "cell_type": "code",
   "execution_count": null,
   "id": "79fbfdfd-ca2c-4398-8bd2-7ced6f8cbb9c",
   "metadata": {},
   "outputs": [],
   "source": [
    "import numpy\n",
    "version = numpy.__version__\n",
    "print(version)"
   ]
  },
  {
   "cell_type": "code",
   "execution_count": null,
   "id": "47b15c0e-faec-40f9-ac55-21bc898b5873",
   "metadata": {},
   "outputs": [],
   "source": [
    "import matplotlib\n",
    "version = matplotlib.__version__\n",
    "print(version)"
   ]
  },
  {
   "cell_type": "code",
   "execution_count": null,
   "id": "ee06d968-1aa6-49c3-9abe-63c94e88e875",
   "metadata": {},
   "outputs": [],
   "source": [
    "#beautifulsoup4\n",
    "import bs4\n",
    "version = bs4.__version__\n",
    "print(version)"
   ]
  },
  {
   "cell_type": "code",
   "execution_count": null,
   "id": "9a4a389b-20d9-4bc8-8ea7-8959039dffb3",
   "metadata": {},
   "outputs": [],
   "source": [
    "import wget\n",
    "version = wget.__version__\n",
    "print(version)"
   ]
  },
  {
   "cell_type": "code",
   "execution_count": null,
   "id": "09676950-a5f8-4218-b5b9-64fcb1a7b83f",
   "metadata": {},
   "outputs": [],
   "source": [
    "!pip uninstall folium"
   ]
  },
  {
   "cell_type": "code",
   "execution_count": null,
   "id": "050b9c11-e419-4291-b88f-778d17815298",
   "metadata": {},
   "outputs": [],
   "source": [
    "import folium\n",
    "version = folium.__version__\n",
    "print(version)\n",
    "#!pip install folium==0.12.1"
   ]
  },
  {
   "cell_type": "code",
   "execution_count": null,
   "id": "fd4544ba-9b11-4570-9f51-91bb9dffd396",
   "metadata": {},
   "outputs": [],
   "source": [
    "pip show folium"
   ]
  },
  {
   "cell_type": "code",
   "execution_count": null,
   "id": "62e02d8f-2b94-4dc9-acb3-e8f1da5f6ad8",
   "metadata": {},
   "outputs": [],
   "source": [
    "import plotly\n",
    "version = plotly.__version__\n",
    "print(version)"
   ]
  },
  {
   "cell_type": "code",
   "execution_count": null,
   "id": "76ee8004-7062-400b-b667-b3c53053cb6c",
   "metadata": {},
   "outputs": [],
   "source": [
    "pip show plotly"
   ]
  },
  {
   "cell_type": "code",
   "execution_count": null,
   "id": "67fd9b7d-d979-41e7-95c9-47c85eb9c5ce",
   "metadata": {},
   "outputs": [],
   "source": [
    "import pandas\n",
    "version = pandas.__version__\n",
    "print(version)"
   ]
  },
  {
   "cell_type": "code",
   "execution_count": null,
   "id": "a4d27061-619a-4598-968b-f8d7b15b71d8",
   "metadata": {},
   "outputs": [],
   "source": [
    "pip show pandas"
   ]
  },
  {
   "cell_type": "code",
   "execution_count": null,
   "id": "39e57109-dcf7-440c-a866-2546aa5f761c",
   "metadata": {},
   "outputs": [],
   "source": [
    "import dash\n",
    "version = dash.__version__\n",
    "print(version)"
   ]
  },
  {
   "cell_type": "code",
   "execution_count": null,
   "id": "b3da0f31-a387-45a6-9222-73c85a3a77d4",
   "metadata": {},
   "outputs": [],
   "source": [
    "#!pip install --upgrade dash dash-core-components dash-html-components dash-renderer"
   ]
  },
  {
   "cell_type": "code",
   "execution_count": null,
   "id": "9739dd24-5545-42d0-b6bf-abcc3971149d",
   "metadata": {},
   "outputs": [],
   "source": []
  },
  {
   "cell_type": "code",
   "execution_count": null,
   "id": "c537e6d6-2f91-40b0-a99d-efa0b10d1b92",
   "metadata": {},
   "outputs": [],
   "source": [
    "#xgboost\n",
    "import openpyxl\n",
    "version = openpyxl.__version__\n",
    "print(version)"
   ]
  },
  {
   "cell_type": "code",
   "execution_count": null,
   "id": "56771127-9f06-4413-b372-67da5c8ba9e1",
   "metadata": {},
   "outputs": [],
   "source": []
  },
  {
   "cell_type": "code",
   "execution_count": null,
   "id": "900df465-34e5-4c67-82b3-7d37cbed0d5e",
   "metadata": {},
   "outputs": [],
   "source": []
  }
 ],
 "metadata": {
  "kernelspec": {
   "display_name": "Python 3 (ipykernel)",
   "language": "python",
   "name": "python3"
  },
  "language_info": {
   "codemirror_mode": {
    "name": "ipython",
    "version": 3
   },
   "file_extension": ".py",
   "mimetype": "text/x-python",
   "name": "python",
   "nbconvert_exporter": "python",
   "pygments_lexer": "ipython3",
   "version": "3.9.12"
  }
 },
 "nbformat": 4,
 "nbformat_minor": 5
}

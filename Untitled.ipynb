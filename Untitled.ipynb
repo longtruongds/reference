{
 "cells": [
  {
   "cell_type": "code",
   "execution_count": 14,
   "id": "7b6a603b-4e47-4baf-afa1-aa2c9c134e1e",
   "metadata": {},
   "outputs": [],
   "source": [
    "##############################################################################\n",
    "#\n",
    "# A hello world spreadsheet using the XlsxWriter Python module.\n",
    "#\n",
    "# SPDX-License-Identifier: BSD-2-Clause\n",
    "# Copyright 2013-2022, John McNamara, jmcnamara@cpan.org\n",
    "#\n",
    "import xlsxwriter\n",
    "\n",
    "workbook = xlsxwriter.Workbook('hello_world.xlsx')\n",
    "worksheet = workbook.add_worksheet()\n",
    "\n",
    "worksheet.write('A1', 'Hello world')\n",
    "\n",
    "workbook.close()"
   ]
  },
  {
   "cell_type": "code",
   "execution_count": 12,
   "id": "6f629fbb-680e-4aab-933e-4437c18f4db8",
   "metadata": {},
   "outputs": [],
   "source": [
    "import xlsxwriter\n",
    "\n",
    "workbook = xlsxwriter.Workbook('headers_footers.xlsx')\n",
    "preview = 'Select Print Preview to see the header and footer'"
   ]
  },
  {
   "cell_type": "code",
   "execution_count": 13,
   "id": "48e33c76-f836-45f6-946d-c025ced75c14",
   "metadata": {},
   "outputs": [
    {
     "data": {
      "text/plain": [
       "0"
      ]
     },
     "execution_count": 13,
     "metadata": {},
     "output_type": "execute_result"
    }
   ],
   "source": [
    "######################################################################\n",
    "#\n",
    "# A simple example to start\n",
    "#\n",
    "worksheet1 = workbook.add_worksheet('Simple')\n",
    "header1 = '&CHere is some centered text.'\n",
    "footer1 = '&LHere is some left aligned text.'\n",
    "\n",
    "worksheet1.set_header(header1)\n",
    "worksheet1.set_footer(footer1)\n",
    "\n",
    "worksheet1.set_column('A:A', 50)\n",
    "worksheet1.write('A1', preview)"
   ]
  },
  {
   "cell_type": "code",
   "execution_count": 9,
   "id": "5971484d-4d31-4b43-8d36-d6dbf6c1bd5d",
   "metadata": {},
   "outputs": [
    {
     "data": {
      "text/plain": [
       "0"
      ]
     },
     "execution_count": 9,
     "metadata": {},
     "output_type": "execute_result"
    }
   ],
   "source": [
    "######################################################################\n",
    "#\n",
    "# Insert a header image.\n",
    "#\n",
    "worksheet2 = workbook.add_worksheet('Image')\n",
    "header2 = '&L&G'\n",
    "\n",
    "# Adjust the page top margin to allow space for the header image.\n",
    "worksheet2.set_margins(top=1.3)\n",
    "\n",
    "worksheet2.set_header(header2, {'image_left': 'python-200x80.png'})\n",
    "\n",
    "worksheet2.set_column('A:A', 50)\n",
    "worksheet2.write('A1', preview)"
   ]
  },
  {
   "cell_type": "code",
   "execution_count": 10,
   "id": "862c31d1-4c0f-4079-8142-39f07eef4734",
   "metadata": {},
   "outputs": [],
   "source": [
    "######################################################################\n",
    "#\n",
    "# This is an example of some of the header/footer variables.\n",
    "#\n",
    "worksheet3 = workbook.add_worksheet('Variables')\n",
    "header3 = '&LPage &P of &N' + '&CFilename: &F' + '&RSheetname: &A'\n",
    "footer3 = '&LCurrent date: &D' + '&RCurrent time: &T'\n",
    "\n",
    "worksheet3.set_header(header3)\n",
    "worksheet3.set_footer(footer3)\n",
    "\n",
    "worksheet3.set_column('A:A', 50)\n",
    "worksheet3.write('A1', preview)\n",
    "worksheet3.write('A21', 'Next sheet')\n",
    "worksheet3.set_h_pagebreaks([20])"
   ]
  },
  {
   "cell_type": "code",
   "execution_count": null,
   "id": "e1569a0e-2c8f-45e3-a2cc-ec38dc0dc79f",
   "metadata": {},
   "outputs": [],
   "source": [
    "\n",
    "######################################################################\n",
    "#\n",
    "# This example shows how to use more than one font\n",
    "#\n",
    "worksheet4 = workbook.add_worksheet('Mixed fonts')\n",
    "header4 = '&C&\"Courier New,Bold\"Hello &\"Arial,Italic\"World'\n",
    "footer4 = '&C&\"Symbol\"e&\"Arial\" = mc&X2'\n",
    "\n",
    "worksheet4.set_header(header4)\n",
    "worksheet4.set_footer(footer4)\n",
    "\n",
    "worksheet4.set_column('A:A', 50)\n",
    "worksheet4.write('A1', preview)\n",
    "\n",
    "######################################################################\n",
    "#\n",
    "# Example of line wrapping\n",
    "#\n",
    "worksheet5 = workbook.add_worksheet('Word wrap')\n",
    "header5 = \"&CHeading 1\\nHeading 2\"\n",
    "\n",
    "worksheet5.set_header(header5)\n",
    "\n",
    "worksheet5.set_column('A:A', 50)\n",
    "worksheet5.write('A1', preview)\n",
    "\n",
    "######################################################################\n",
    "#\n",
    "# Example of inserting a literal ampersand &\n",
    "#\n",
    "worksheet6 = workbook.add_worksheet('Ampersand')\n",
    "header6 = '&CCuriouser && Curiouser - Attorneys at Law'\n",
    "\n",
    "worksheet6.set_header(header6)\n",
    "\n",
    "worksheet6.set_column('A:A', 50)\n",
    "worksheet6.write('A1', preview)\n",
    "\n",
    "workbook.close()"
   ]
  }
 ],
 "metadata": {
  "kernelspec": {
   "display_name": "Python 3 (ipykernel)",
   "language": "python",
   "name": "python3"
  },
  "language_info": {
   "codemirror_mode": {
    "name": "ipython",
    "version": 3
   },
   "file_extension": ".py",
   "mimetype": "text/x-python",
   "name": "python",
   "nbconvert_exporter": "python",
   "pygments_lexer": "ipython3",
   "version": "3.9.7"
  }
 },
 "nbformat": 4,
 "nbformat_minor": 5
}
